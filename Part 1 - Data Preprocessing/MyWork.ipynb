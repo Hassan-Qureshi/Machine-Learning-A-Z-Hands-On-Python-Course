{
 "cells": [
  {
   "cell_type": "markdown",
   "metadata": {},
   "source": [
    "<h3 align=\"center\">Importing Libraries</h3>"
   ]
  },
  {
   "cell_type": "code",
   "execution_count": null,
   "metadata": {
    "collapsed": false
   },
   "outputs": [],
   "source": [
    "import numpy as np               # Numeric Data Manipulation\n",
    "import matplotlib.pyplot as plt  # Data visualization\n",
    "import pandas as pd              # File Reading\n",
    "from sklearn.preprocessing import Imputer               # Preprocessing of missing data\n",
    "from sklearn.preprocessing import LabelEncoder          # For catagorical encoding\n",
    "from sklearn.preprocessing import OneHotEncoder         # For Catagorical Encoding\n",
    "from sklearn.cross_validation import train_test_split   # For Splitting the Datasets into Test and Train.\n",
    "from sklearn.preprocessing import StandardScaler        # To scale the features"
   ]
  },
  {
   "cell_type": "markdown",
   "metadata": {},
   "source": [
    "<h3 align=\"center\">Importing Data</h3>"
   ]
  },
  {
   "cell_type": "code",
   "execution_count": null,
   "metadata": {
    "collapsed": false
   },
   "outputs": [],
   "source": [
    "dataset = pd.read_csv(\"Data.csv\")\n",
    "dataset.head(5)"
   ]
  },
  {
   "cell_type": "markdown",
   "metadata": {},
   "source": [
    "<h4><code> iloc[Rows, Columns] </code>  ------->   Returns Data Frame </h4>\n",
    "<h4><code> iloc[Rows, Columns].values </code>  ------->   Returns Data Frame </h4>"
   ]
  },
  {
   "cell_type": "code",
   "execution_count": null,
   "metadata": {
    "collapsed": false
   },
   "outputs": [],
   "source": [
    "# iloc[Rows, Columns]                      Returns Data Frame\n",
    "# iloc[Rows, Columns].values               Returns the array\n",
    "X = dataset.iloc[:,:-1].values\n",
    "Y = dataset.iloc[:,-1:].values"
   ]
  },
  {
   "cell_type": "code",
   "execution_count": null,
   "metadata": {
    "collapsed": false
   },
   "outputs": [],
   "source": [
    "Y"
   ]
  },
  {
   "cell_type": "markdown",
   "metadata": {},
   "source": [
    "<h3 align=\"center\">Handling Missing Data</h3>"
   ]
  },
  {
   "cell_type": "markdown",
   "metadata": {},
   "source": [
    "<h4> There are few missing values. First we'll take mean of all the column for that respective column for that missing value</h4>"
   ]
  },
  {
   "cell_type": "code",
   "execution_count": null,
   "metadata": {
    "collapsed": false
   },
   "outputs": [],
   "source": [
    "# axis = 0 ---> shows columns\n",
    "# axis = 1 ---> shows Rows\n",
    "imputer = Imputer(missing_values='NaN', strategy='mean', axis=0)\n",
    "imputer.fit(X[:, 1:3])   # Not the upper bound 1:3 ---> 1 to 2\n",
    "X[:, 1:3] = imputer.transform(X[:, 1:3]) \n",
    "X"
   ]
  },
  {
   "cell_type": "markdown",
   "metadata": {},
   "source": [
    "<h3 align=\"center\">Handling Catagorical Data</h3>"
   ]
  },
  {
   "cell_type": "markdown",
   "metadata": {},
   "source": [
    "<h4>First Convert it into Labels via LabelEncoder and then encode into OneHot Encoding Scheme</h4>"
   ]
  },
  {
   "cell_type": "code",
   "execution_count": null,
   "metadata": {
    "collapsed": false
   },
   "outputs": [],
   "source": [
    "label_X = LabelEncoder()\n",
    "X[:, 0] = label_X.fit_transform(X[:, 0]) # Encoding X\n",
    "X  # Focus on 1st column\n",
    "# Problem is one country with high value might get precedence if we put them in equation."
   ]
  },
  {
   "cell_type": "markdown",
   "metadata": {
    "collapsed": true
   },
   "source": [
    "\n",
    "<h3 align=\"center\">Onehot Encoder For Catagorical Data</h3>"
   ]
  },
  {
   "cell_type": "code",
   "execution_count": null,
   "metadata": {
    "collapsed": false
   },
   "outputs": [],
   "source": [
    "oneHot_X = OneHotEncoder(categorical_features= [0])\n",
    "X = oneHot_X.fit_transform(X).toarray()\n",
    "X"
   ]
  },
  {
   "cell_type": "code",
   "execution_count": null,
   "metadata": {
    "collapsed": false
   },
   "outputs": [],
   "source": [
    "# Similarly with Y Column\n",
    "label_Y = LabelEncoder()\n",
    "Y = label_Y.fit_transform(Y)             # Encoding Y\n",
    "Y  # No need for oneHot Encoding. It is only needed if catagorical variables are greater than 2."
   ]
  },
  {
   "cell_type": "markdown",
   "metadata": {},
   "source": [
    "<h3 align=\"center\">Splitting Data into Test and Training Dataset</h3>"
   ]
  },
  {
   "cell_type": "code",
   "execution_count": null,
   "metadata": {
    "collapsed": false
   },
   "outputs": [],
   "source": [
    "X_Train, X_Test, Y_Train, Y_Test = train_test_split(X, Y, test_size = 0.3)"
   ]
  },
  {
   "cell_type": "markdown",
   "metadata": {},
   "source": [
    "<h3 align=\"center\">Feature Scaling</h3>"
   ]
  },
  {
   "cell_type": "code",
   "execution_count": null,
   "metadata": {
    "collapsed": false
   },
   "outputs": [],
   "source": [
    "X_Scale = StandardScaler()\n",
    "X_Train = X_Scale.fit_transform(X_Train) # Fit the Training data\n",
    "X_Test = X_Scale.transform(X_Test)       # No need to fit the testing data only transformation will work.\n",
    "\n",
    "# Note: We don't need to apply feature scaling on dependent variable because it our case it's catagorical variable\n",
    "# But this could be different in case of regression."
   ]
  }
 ],
 "metadata": {
  "anaconda-cloud": {},
  "kernelspec": {
   "display_name": "Python [Root]",
   "language": "python",
   "name": "Python [Root]"
  },
  "language_info": {
   "codemirror_mode": {
    "name": "ipython",
    "version": 3
   },
   "file_extension": ".py",
   "mimetype": "text/x-python",
   "name": "python",
   "nbconvert_exporter": "python",
   "pygments_lexer": "ipython3",
   "version": "3.5.1"
  }
 },
 "nbformat": 4,
 "nbformat_minor": 0
}
